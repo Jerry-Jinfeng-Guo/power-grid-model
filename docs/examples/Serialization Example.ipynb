{
 "cells": [
  {
   "cell_type": "markdown",
   "metadata": {},
   "source": [
    "# Serialization example\n",
    "\n",
    "This example illustrates how to load a dataset from JSON, run the model on that dataset and write the output back to JSON."
   ]
  },
  {
   "cell_type": "markdown",
   "metadata": {},
   "source": [
    "## Load dependencies"
   ]
  },
  {
   "cell_type": "code",
   "execution_count": 4,
   "metadata": {},
   "outputs": [
    {
     "ename": "AttributeError",
     "evalue": "function 'PGM_create_dataset_mutable' not found",
     "output_type": "error",
     "traceback": [
      "\u001b[1;31m---------------------------------------------------------------------------\u001b[0m",
      "\u001b[1;31mAttributeError\u001b[0m                            Traceback (most recent call last)",
      "\u001b[1;32mc:\\headers\\power-grid-model\\docs\\examples\\Serialization Example.ipynb Cell 3\u001b[0m line \u001b[0;36m5\n\u001b[0;32m      <a href='vscode-notebook-cell:/c%3A/headers/power-grid-model/docs/examples/Serialization%20Example.ipynb#W2sZmlsZQ%3D%3D?line=1'>2</a>\u001b[0m \u001b[39mimport\u001b[39;00m \u001b[39mpprint\u001b[39;00m\n\u001b[0;32m      <a href='vscode-notebook-cell:/c%3A/headers/power-grid-model/docs/examples/Serialization%20Example.ipynb#W2sZmlsZQ%3D%3D?line=2'>3</a>\u001b[0m \u001b[39mfrom\u001b[39;00m \u001b[39mpandas\u001b[39;00m \u001b[39mimport\u001b[39;00m DataFrame\n\u001b[1;32m----> <a href='vscode-notebook-cell:/c%3A/headers/power-grid-model/docs/examples/Serialization%20Example.ipynb#W2sZmlsZQ%3D%3D?line=4'>5</a>\u001b[0m \u001b[39mfrom\u001b[39;00m \u001b[39mpower_grid_model\u001b[39;00m \u001b[39mimport\u001b[39;00m PowerGridModel\n\u001b[0;32m      <a href='vscode-notebook-cell:/c%3A/headers/power-grid-model/docs/examples/Serialization%20Example.ipynb#W2sZmlsZQ%3D%3D?line=5'>6</a>\u001b[0m \u001b[39mfrom\u001b[39;00m \u001b[39mpower_grid_model\u001b[39;00m\u001b[39m.\u001b[39;00m\u001b[39mutils\u001b[39;00m \u001b[39mimport\u001b[39;00m json_deserialize, json_serialize\n",
      "File \u001b[1;32mC:\\headers\\power-grid-model\\src\\power_grid_model\\__init__.py:7\u001b[0m\n\u001b[0;32m      1\u001b[0m \u001b[39m# SPDX-FileCopyrightText: 2022 Contributors to the Power Grid Model project <dynamic.grid.calculation@alliander.com>\u001b[39;00m\n\u001b[0;32m      2\u001b[0m \u001b[39m#\u001b[39;00m\n\u001b[0;32m      3\u001b[0m \u001b[39m# SPDX-License-Identifier: MPL-2.0\u001b[39;00m\n\u001b[0;32m      5\u001b[0m \u001b[39m\"\"\"Power Grid Model\"\"\"\u001b[39;00m\n\u001b[1;32m----> 7\u001b[0m \u001b[39mfrom\u001b[39;00m \u001b[39mpower_grid_model\u001b[39;00m\u001b[39m.\u001b[39;00m\u001b[39mcore\u001b[39;00m\u001b[39m.\u001b[39;00m\u001b[39mpower_grid_meta\u001b[39;00m \u001b[39mimport\u001b[39;00m initialize_array, power_grid_meta_data\n\u001b[0;32m      8\u001b[0m \u001b[39mfrom\u001b[39;00m \u001b[39mpower_grid_model\u001b[39;00m\u001b[39m.\u001b[39;00m\u001b[39mcore\u001b[39;00m\u001b[39m.\u001b[39;00m\u001b[39mpower_grid_model\u001b[39;00m \u001b[39mimport\u001b[39;00m PowerGridModel\n\u001b[0;32m      9\u001b[0m \u001b[39mfrom\u001b[39;00m \u001b[39mpower_grid_model\u001b[39;00m\u001b[39m.\u001b[39;00m\u001b[39menum\u001b[39;00m \u001b[39mimport\u001b[39;00m (\n\u001b[0;32m     10\u001b[0m     Branch3Side,\n\u001b[0;32m     11\u001b[0m     BranchSide,\n\u001b[1;32m   (...)\u001b[0m\n\u001b[0;32m     19\u001b[0m     WindingType,\n\u001b[0;32m     20\u001b[0m )\n",
      "File \u001b[1;32mC:\\headers\\power-grid-model\\src\\power_grid_model\\core\\power_grid_meta.py:15\u001b[0m\n\u001b[0;32m     11\u001b[0m \u001b[39mfrom\u001b[39;00m \u001b[39mtyping\u001b[39;00m \u001b[39mimport\u001b[39;00m Any, Dict, Union\n\u001b[0;32m     13\u001b[0m \u001b[39mimport\u001b[39;00m \u001b[39mnumpy\u001b[39;00m \u001b[39mas\u001b[39;00m \u001b[39mnp\u001b[39;00m\n\u001b[1;32m---> 15\u001b[0m \u001b[39mfrom\u001b[39;00m \u001b[39mpower_grid_model\u001b[39;00m\u001b[39m.\u001b[39;00m\u001b[39mcore\u001b[39;00m\u001b[39m.\u001b[39;00m\u001b[39mpower_grid_core\u001b[39;00m \u001b[39mimport\u001b[39;00m AttributePtr, ComponentPtr, DatasetPtr\n\u001b[0;32m     16\u001b[0m \u001b[39mfrom\u001b[39;00m \u001b[39mpower_grid_model\u001b[39;00m\u001b[39m.\u001b[39;00m\u001b[39mcore\u001b[39;00m\u001b[39m.\u001b[39;00m\u001b[39mpower_grid_core\u001b[39;00m \u001b[39mimport\u001b[39;00m power_grid_core \u001b[39mas\u001b[39;00m pgc\n\u001b[0;32m     19\u001b[0m \u001b[39m# constant enum for ctype\u001b[39;00m\n\u001b[0;32m     20\u001b[0m \u001b[39m# pylint: disable=invalid-name\u001b[39;00m\n",
      "File \u001b[1;32mC:\\headers\\power-grid-model\\src\\power_grid_model\\core\\power_grid_core.py:203\u001b[0m\n\u001b[0;32m    197\u001b[0m     \u001b[39mreturn\u001b[39;00m cbind_func\n\u001b[0;32m    200\u001b[0m \u001b[39m# pylint: disable=too-many-arguments\u001b[39;00m\n\u001b[0;32m    201\u001b[0m \u001b[39m# pylint: disable=missing-function-docstring\u001b[39;00m\n\u001b[0;32m    202\u001b[0m \u001b[39m# pylint: disable=too-many-public-methods\u001b[39;00m\n\u001b[1;32m--> 203\u001b[0m \u001b[39mclass\u001b[39;00m \u001b[39mPowerGridCore\u001b[39;00m:\n\u001b[0;32m    204\u001b[0m \u001b[39m    \u001b[39m\u001b[39m\"\"\"\u001b[39;00m\n\u001b[0;32m    205\u001b[0m \u001b[39m    DLL caller\u001b[39;00m\n\u001b[0;32m    206\u001b[0m \u001b[39m    \"\"\"\u001b[39;00m\n\u001b[0;32m    208\u001b[0m     _handle: HandlePtr\n",
      "File \u001b[1;32mC:\\headers\\power-grid-model\\src\\power_grid_model\\core\\power_grid_core.py:422\u001b[0m, in \u001b[0;36mPowerGridCore\u001b[1;34m()\u001b[0m\n\u001b[0;32m    417\u001b[0m \u001b[39m@make_c_binding\u001b[39m\n\u001b[0;32m    418\u001b[0m \u001b[39mdef\u001b[39;00m \u001b[39mdataset_info_total_elements\u001b[39m(\u001b[39mself\u001b[39m, info: DatasetInfoPtr, component_idx: \u001b[39mint\u001b[39m) \u001b[39m-\u001b[39m\u001b[39m>\u001b[39m \u001b[39mint\u001b[39m:  \u001b[39m# type: ignore[empty-body]\u001b[39;00m\n\u001b[0;32m    419\u001b[0m     \u001b[39mpass\u001b[39;00m  \u001b[39m# pragma: no cover\u001b[39;00m\n\u001b[0;32m    421\u001b[0m \u001b[39m@make_c_binding\u001b[39;49m\n\u001b[1;32m--> 422\u001b[0m \u001b[39mdef\u001b[39;49;00m \u001b[39mcreate_dataset_mutable\u001b[39;49m(  \u001b[39m# type: ignore[empty-body]\u001b[39;49;00m\n\u001b[0;32m    423\u001b[0m     \u001b[39mself\u001b[39;49m, dataset: \u001b[39mstr\u001b[39;49m, is_batch: \u001b[39mint\u001b[39;49m, batch_size: \u001b[39mint\u001b[39;49m\n\u001b[0;32m    424\u001b[0m ) \u001b[39m-\u001b[39;49m\u001b[39m>\u001b[39;49m MutableDatasetPtr:\n\u001b[0;32m    425\u001b[0m     \u001b[39mpass\u001b[39;49;00m  \u001b[39m# pragma: no cover\u001b[39;00m\n\u001b[0;32m    427\u001b[0m \u001b[39m@make_c_binding\u001b[39m\n\u001b[0;32m    428\u001b[0m \u001b[39mdef\u001b[39;00m \u001b[39mdestroy_dataset_mutable\u001b[39m(\u001b[39mself\u001b[39m, dataset: MutableDatasetPtr) \u001b[39m-\u001b[39m\u001b[39m>\u001b[39m \u001b[39mNone\u001b[39;00m:  \u001b[39m# type: ignore[empty-body]\u001b[39;00m\n",
      "File \u001b[1;32mC:\\headers\\power-grid-model\\src\\power_grid_model\\core\\power_grid_core.py:174\u001b[0m, in \u001b[0;36mmake_c_binding\u001b[1;34m(func)\u001b[0m\n\u001b[0;32m    172\u001b[0m     \u001b[39mgetattr\u001b[39m(_CDLL, \u001b[39mf\u001b[39m\u001b[39m\"\u001b[39m\u001b[39mPGM_\u001b[39m\u001b[39m{\u001b[39;00mname\u001b[39m}\u001b[39;00m\u001b[39m\"\u001b[39m)\u001b[39m.\u001b[39margtypes \u001b[39m=\u001b[39m c_argtypes\n\u001b[0;32m    173\u001b[0m \u001b[39melse\u001b[39;00m:\n\u001b[1;32m--> 174\u001b[0m     \u001b[39mgetattr\u001b[39;49m(_CDLL, \u001b[39mf\u001b[39;49m\u001b[39m\"\u001b[39;49m\u001b[39mPGM_\u001b[39;49m\u001b[39m{\u001b[39;49;00mname\u001b[39m}\u001b[39;49;00m\u001b[39m\"\u001b[39;49m)\u001b[39m.\u001b[39margtypes \u001b[39m=\u001b[39m [HandlePtr] \u001b[39m+\u001b[39m c_argtypes\n\u001b[0;32m    175\u001b[0m \u001b[39mgetattr\u001b[39m(_CDLL, \u001b[39mf\u001b[39m\u001b[39m\"\u001b[39m\u001b[39mPGM_\u001b[39m\u001b[39m{\u001b[39;00mname\u001b[39m}\u001b[39;00m\u001b[39m\"\u001b[39m)\u001b[39m.\u001b[39mrestype \u001b[39m=\u001b[39m c_restype\n\u001b[0;32m    177\u001b[0m \u001b[39m# binding function\u001b[39;00m\n",
      "File \u001b[1;32mC:\\Program Files\\WindowsApps\\PythonSoftwareFoundation.Python.3.9_3.9.3568.0_x64__qbz5n2kfra8p0\\lib\\ctypes\\__init__.py:387\u001b[0m, in \u001b[0;36mCDLL.__getattr__\u001b[1;34m(self, name)\u001b[0m\n\u001b[0;32m    385\u001b[0m \u001b[39mif\u001b[39;00m name\u001b[39m.\u001b[39mstartswith(\u001b[39m'\u001b[39m\u001b[39m__\u001b[39m\u001b[39m'\u001b[39m) \u001b[39mand\u001b[39;00m name\u001b[39m.\u001b[39mendswith(\u001b[39m'\u001b[39m\u001b[39m__\u001b[39m\u001b[39m'\u001b[39m):\n\u001b[0;32m    386\u001b[0m     \u001b[39mraise\u001b[39;00m \u001b[39mAttributeError\u001b[39;00m(name)\n\u001b[1;32m--> 387\u001b[0m func \u001b[39m=\u001b[39m \u001b[39mself\u001b[39;49m\u001b[39m.\u001b[39;49m\u001b[39m__getitem__\u001b[39;49m(name)\n\u001b[0;32m    388\u001b[0m \u001b[39msetattr\u001b[39m(\u001b[39mself\u001b[39m, name, func)\n\u001b[0;32m    389\u001b[0m \u001b[39mreturn\u001b[39;00m func\n",
      "File \u001b[1;32mC:\\Program Files\\WindowsApps\\PythonSoftwareFoundation.Python.3.9_3.9.3568.0_x64__qbz5n2kfra8p0\\lib\\ctypes\\__init__.py:392\u001b[0m, in \u001b[0;36mCDLL.__getitem__\u001b[1;34m(self, name_or_ordinal)\u001b[0m\n\u001b[0;32m    391\u001b[0m \u001b[39mdef\u001b[39;00m \u001b[39m__getitem__\u001b[39m(\u001b[39mself\u001b[39m, name_or_ordinal):\n\u001b[1;32m--> 392\u001b[0m     func \u001b[39m=\u001b[39m \u001b[39mself\u001b[39;49m\u001b[39m.\u001b[39;49m_FuncPtr((name_or_ordinal, \u001b[39mself\u001b[39;49m))\n\u001b[0;32m    393\u001b[0m     \u001b[39mif\u001b[39;00m \u001b[39mnot\u001b[39;00m \u001b[39misinstance\u001b[39m(name_or_ordinal, \u001b[39mint\u001b[39m):\n\u001b[0;32m    394\u001b[0m         func\u001b[39m.\u001b[39m\u001b[39m__name__\u001b[39m \u001b[39m=\u001b[39m name_or_ordinal\n",
      "\u001b[1;31mAttributeError\u001b[0m: function 'PGM_create_dataset_mutable' not found"
     ]
    }
   ],
   "source": [
    "import json\n",
    "import pprint\n",
    "from pandas import DataFrame\n",
    "\n",
    "from power_grid_model import PowerGridModel\n",
    "from power_grid_model.utils import json_deserialize, json_serialize"
   ]
  },
  {
   "cell_type": "markdown",
   "metadata": {},
   "source": [
    "## Load a dataset from a JSON file\n",
    "\n",
    "The data is in the `data/serialized-input.json` file.\n",
    "\n",
    "### Load the JSON file"
   ]
  },
  {
   "cell_type": "code",
   "execution_count": 2,
   "metadata": {},
   "outputs": [
    {
     "name": "stdout",
     "output_type": "stream",
     "text": [
      "{'attributes': {'node': ['id', 'u_rated'],\n",
      "                'source': ['id', 'node', 'status', 'u_ref', 'sk'],\n",
      "                'sym_load': ['id',\n",
      "                             'node',\n",
      "                             'status',\n",
      "                             'type',\n",
      "                             'p_specified',\n",
      "                             'q_specified']},\n",
      " 'data': {'line': [{'c1': 4e-05,\n",
      "                    'from_node': 1,\n",
      "                    'from_status': 1,\n",
      "                    'i_n': 500.0,\n",
      "                    'id': 4,\n",
      "                    'r1': 0.11,\n",
      "                    'tan1': 0.1,\n",
      "                    'to_node': 2,\n",
      "                    'to_status': 1,\n",
      "                    'x1': 0.12},\n",
      "                   {'c1': 5e-05,\n",
      "                    'from_node': 2,\n",
      "                    'from_status': 1,\n",
      "                    'i_n': 550.0,\n",
      "                    'id': 5,\n",
      "                    'r1': 0.15,\n",
      "                    'tan1': 0.12,\n",
      "                    'to_node': 3,\n",
      "                    'to_status': 1,\n",
      "                    'x1': 0.16}],\n",
      "          'node': [[1, 10500.0], [2, 10500.0], [3, 10500.0]],\n",
      "          'source': [[15, 1, 1, 1.03, 1e+20],\n",
      "                     [16, 1, 1, 1.04, None],\n",
      "                     {'id': 17,\n",
      "                      'node': 1,\n",
      "                      'rx_ratio': 0.2,\n",
      "                      'sk': 10000000000.0,\n",
      "                      'status': 1,\n",
      "                      'u_ref': 1.03}],\n",
      "          'sym_load': [[7, 2, 1, 0, 1010000.0, 210000.0],\n",
      "                       [8, 3, 1, 0, 1020000.0, 220000.0]]},\n",
      " 'is_batch': False,\n",
      " 'type': 'input',\n",
      " 'version': '1.0'}\n"
     ]
    }
   ],
   "source": [
    "with open(\"data/serialized_input.json\") as fp:\n",
    "    data = fp.read()\n",
    "\n",
    "pprint.pprint(json.loads(data))"
   ]
  },
  {
   "cell_type": "code",
   "execution_count": 1,
   "metadata": {},
   "outputs": [
    {
     "ename": "AttributeError",
     "evalue": "function 'PGM_create_dataset_mutable' not found",
     "output_type": "error",
     "traceback": [
      "\u001b[1;31m---------------------------------------------------------------------------\u001b[0m",
      "\u001b[1;31mAttributeError\u001b[0m                            Traceback (most recent call last)",
      "\u001b[1;32mc:\\headers\\power-grid-model\\docs\\examples\\Serialization Example.ipynb Cell 6\u001b[0m line \u001b[0;36m1\n\u001b[1;32m----> <a href='vscode-notebook-cell:/c%3A/headers/power-grid-model/docs/examples/Serialization%20Example.ipynb#X21sZmlsZQ%3D%3D?line=0'>1</a>\u001b[0m \u001b[39mfrom\u001b[39;00m \u001b[39mpower_grid_model\u001b[39;00m\u001b[39m.\u001b[39;00m\u001b[39mutils\u001b[39;00m \u001b[39mimport\u001b[39;00m msgpack_deserialize, msgpack_serialize\n\u001b[0;32m      <a href='vscode-notebook-cell:/c%3A/headers/power-grid-model/docs/examples/Serialization%20Example.ipynb#X21sZmlsZQ%3D%3D?line=2'>3</a>\u001b[0m Msgpack_dataset \u001b[39m=\u001b[39m msgpack_deserialize(data)\n\u001b[0;32m      <a href='vscode-notebook-cell:/c%3A/headers/power-grid-model/docs/examples/Serialization%20Example.ipynb#X21sZmlsZQ%3D%3D?line=3'>4</a>\u001b[0m \u001b[39mprint\u001b[39m(Msgpack_dataset)\n",
      "File \u001b[1;32mC:\\headers\\power-grid-model\\src\\power_grid_model\\__init__.py:7\u001b[0m\n\u001b[0;32m      1\u001b[0m \u001b[39m# SPDX-FileCopyrightText: 2022 Contributors to the Power Grid Model project <dynamic.grid.calculation@alliander.com>\u001b[39;00m\n\u001b[0;32m      2\u001b[0m \u001b[39m#\u001b[39;00m\n\u001b[0;32m      3\u001b[0m \u001b[39m# SPDX-License-Identifier: MPL-2.0\u001b[39;00m\n\u001b[0;32m      5\u001b[0m \u001b[39m\"\"\"Power Grid Model\"\"\"\u001b[39;00m\n\u001b[1;32m----> 7\u001b[0m \u001b[39mfrom\u001b[39;00m \u001b[39mpower_grid_model\u001b[39;00m\u001b[39m.\u001b[39;00m\u001b[39mcore\u001b[39;00m\u001b[39m.\u001b[39;00m\u001b[39mpower_grid_meta\u001b[39;00m \u001b[39mimport\u001b[39;00m initialize_array, power_grid_meta_data\n\u001b[0;32m      8\u001b[0m \u001b[39mfrom\u001b[39;00m \u001b[39mpower_grid_model\u001b[39;00m\u001b[39m.\u001b[39;00m\u001b[39mcore\u001b[39;00m\u001b[39m.\u001b[39;00m\u001b[39mpower_grid_model\u001b[39;00m \u001b[39mimport\u001b[39;00m PowerGridModel\n\u001b[0;32m      9\u001b[0m \u001b[39mfrom\u001b[39;00m \u001b[39mpower_grid_model\u001b[39;00m\u001b[39m.\u001b[39;00m\u001b[39menum\u001b[39;00m \u001b[39mimport\u001b[39;00m (\n\u001b[0;32m     10\u001b[0m     Branch3Side,\n\u001b[0;32m     11\u001b[0m     BranchSide,\n\u001b[1;32m   (...)\u001b[0m\n\u001b[0;32m     19\u001b[0m     WindingType,\n\u001b[0;32m     20\u001b[0m )\n",
      "File \u001b[1;32mC:\\headers\\power-grid-model\\src\\power_grid_model\\core\\power_grid_meta.py:15\u001b[0m\n\u001b[0;32m     11\u001b[0m \u001b[39mfrom\u001b[39;00m \u001b[39mtyping\u001b[39;00m \u001b[39mimport\u001b[39;00m Any, Dict, Union\n\u001b[0;32m     13\u001b[0m \u001b[39mimport\u001b[39;00m \u001b[39mnumpy\u001b[39;00m \u001b[39mas\u001b[39;00m \u001b[39mnp\u001b[39;00m\n\u001b[1;32m---> 15\u001b[0m \u001b[39mfrom\u001b[39;00m \u001b[39mpower_grid_model\u001b[39;00m\u001b[39m.\u001b[39;00m\u001b[39mcore\u001b[39;00m\u001b[39m.\u001b[39;00m\u001b[39mpower_grid_core\u001b[39;00m \u001b[39mimport\u001b[39;00m AttributePtr, ComponentPtr, DatasetPtr\n\u001b[0;32m     16\u001b[0m \u001b[39mfrom\u001b[39;00m \u001b[39mpower_grid_model\u001b[39;00m\u001b[39m.\u001b[39;00m\u001b[39mcore\u001b[39;00m\u001b[39m.\u001b[39;00m\u001b[39mpower_grid_core\u001b[39;00m \u001b[39mimport\u001b[39;00m power_grid_core \u001b[39mas\u001b[39;00m pgc\n\u001b[0;32m     19\u001b[0m \u001b[39m# constant enum for ctype\u001b[39;00m\n\u001b[0;32m     20\u001b[0m \u001b[39m# pylint: disable=invalid-name\u001b[39;00m\n",
      "File \u001b[1;32mC:\\headers\\power-grid-model\\src\\power_grid_model\\core\\power_grid_core.py:203\u001b[0m\n\u001b[0;32m    197\u001b[0m     \u001b[39mreturn\u001b[39;00m cbind_func\n\u001b[0;32m    200\u001b[0m \u001b[39m# pylint: disable=too-many-arguments\u001b[39;00m\n\u001b[0;32m    201\u001b[0m \u001b[39m# pylint: disable=missing-function-docstring\u001b[39;00m\n\u001b[0;32m    202\u001b[0m \u001b[39m# pylint: disable=too-many-public-methods\u001b[39;00m\n\u001b[1;32m--> 203\u001b[0m \u001b[39mclass\u001b[39;00m \u001b[39mPowerGridCore\u001b[39;00m:\n\u001b[0;32m    204\u001b[0m \u001b[39m    \u001b[39m\u001b[39m\"\"\"\u001b[39;00m\n\u001b[0;32m    205\u001b[0m \u001b[39m    DLL caller\u001b[39;00m\n\u001b[0;32m    206\u001b[0m \u001b[39m    \"\"\"\u001b[39;00m\n\u001b[0;32m    208\u001b[0m     _handle: HandlePtr\n",
      "File \u001b[1;32mC:\\headers\\power-grid-model\\src\\power_grid_model\\core\\power_grid_core.py:422\u001b[0m, in \u001b[0;36mPowerGridCore\u001b[1;34m()\u001b[0m\n\u001b[0;32m    417\u001b[0m \u001b[39m@make_c_binding\u001b[39m\n\u001b[0;32m    418\u001b[0m \u001b[39mdef\u001b[39;00m \u001b[39mdataset_info_total_elements\u001b[39m(\u001b[39mself\u001b[39m, info: DatasetInfoPtr, component_idx: \u001b[39mint\u001b[39m) \u001b[39m-\u001b[39m\u001b[39m>\u001b[39m \u001b[39mint\u001b[39m:  \u001b[39m# type: ignore[empty-body]\u001b[39;00m\n\u001b[0;32m    419\u001b[0m     \u001b[39mpass\u001b[39;00m  \u001b[39m# pragma: no cover\u001b[39;00m\n\u001b[0;32m    421\u001b[0m \u001b[39m@make_c_binding\u001b[39;49m\n\u001b[1;32m--> 422\u001b[0m \u001b[39mdef\u001b[39;49;00m \u001b[39mcreate_dataset_mutable\u001b[39;49m(  \u001b[39m# type: ignore[empty-body]\u001b[39;49;00m\n\u001b[0;32m    423\u001b[0m     \u001b[39mself\u001b[39;49m, dataset: \u001b[39mstr\u001b[39;49m, is_batch: \u001b[39mint\u001b[39;49m, batch_size: \u001b[39mint\u001b[39;49m\n\u001b[0;32m    424\u001b[0m ) \u001b[39m-\u001b[39;49m\u001b[39m>\u001b[39;49m MutableDatasetPtr:\n\u001b[0;32m    425\u001b[0m     \u001b[39mpass\u001b[39;49;00m  \u001b[39m# pragma: no cover\u001b[39;00m\n\u001b[0;32m    427\u001b[0m \u001b[39m@make_c_binding\u001b[39m\n\u001b[0;32m    428\u001b[0m \u001b[39mdef\u001b[39;00m \u001b[39mdestroy_dataset_mutable\u001b[39m(\u001b[39mself\u001b[39m, dataset: MutableDatasetPtr) \u001b[39m-\u001b[39m\u001b[39m>\u001b[39m \u001b[39mNone\u001b[39;00m:  \u001b[39m# type: ignore[empty-body]\u001b[39;00m\n",
      "File \u001b[1;32mC:\\headers\\power-grid-model\\src\\power_grid_model\\core\\power_grid_core.py:174\u001b[0m, in \u001b[0;36mmake_c_binding\u001b[1;34m(func)\u001b[0m\n\u001b[0;32m    172\u001b[0m     \u001b[39mgetattr\u001b[39m(_CDLL, \u001b[39mf\u001b[39m\u001b[39m\"\u001b[39m\u001b[39mPGM_\u001b[39m\u001b[39m{\u001b[39;00mname\u001b[39m}\u001b[39;00m\u001b[39m\"\u001b[39m)\u001b[39m.\u001b[39margtypes \u001b[39m=\u001b[39m c_argtypes\n\u001b[0;32m    173\u001b[0m \u001b[39melse\u001b[39;00m:\n\u001b[1;32m--> 174\u001b[0m     \u001b[39mgetattr\u001b[39;49m(_CDLL, \u001b[39mf\u001b[39;49m\u001b[39m\"\u001b[39;49m\u001b[39mPGM_\u001b[39;49m\u001b[39m{\u001b[39;49;00mname\u001b[39m}\u001b[39;49;00m\u001b[39m\"\u001b[39;49m)\u001b[39m.\u001b[39margtypes \u001b[39m=\u001b[39m [HandlePtr] \u001b[39m+\u001b[39m c_argtypes\n\u001b[0;32m    175\u001b[0m \u001b[39mgetattr\u001b[39m(_CDLL, \u001b[39mf\u001b[39m\u001b[39m\"\u001b[39m\u001b[39mPGM_\u001b[39m\u001b[39m{\u001b[39;00mname\u001b[39m}\u001b[39;00m\u001b[39m\"\u001b[39m)\u001b[39m.\u001b[39mrestype \u001b[39m=\u001b[39m c_restype\n\u001b[0;32m    177\u001b[0m \u001b[39m# binding function\u001b[39;00m\n",
      "File \u001b[1;32mC:\\Program Files\\WindowsApps\\PythonSoftwareFoundation.Python.3.9_3.9.3568.0_x64__qbz5n2kfra8p0\\lib\\ctypes\\__init__.py:387\u001b[0m, in \u001b[0;36mCDLL.__getattr__\u001b[1;34m(self, name)\u001b[0m\n\u001b[0;32m    385\u001b[0m \u001b[39mif\u001b[39;00m name\u001b[39m.\u001b[39mstartswith(\u001b[39m'\u001b[39m\u001b[39m__\u001b[39m\u001b[39m'\u001b[39m) \u001b[39mand\u001b[39;00m name\u001b[39m.\u001b[39mendswith(\u001b[39m'\u001b[39m\u001b[39m__\u001b[39m\u001b[39m'\u001b[39m):\n\u001b[0;32m    386\u001b[0m     \u001b[39mraise\u001b[39;00m \u001b[39mAttributeError\u001b[39;00m(name)\n\u001b[1;32m--> 387\u001b[0m func \u001b[39m=\u001b[39m \u001b[39mself\u001b[39;49m\u001b[39m.\u001b[39;49m\u001b[39m__getitem__\u001b[39;49m(name)\n\u001b[0;32m    388\u001b[0m \u001b[39msetattr\u001b[39m(\u001b[39mself\u001b[39m, name, func)\n\u001b[0;32m    389\u001b[0m \u001b[39mreturn\u001b[39;00m func\n",
      "File \u001b[1;32mC:\\Program Files\\WindowsApps\\PythonSoftwareFoundation.Python.3.9_3.9.3568.0_x64__qbz5n2kfra8p0\\lib\\ctypes\\__init__.py:392\u001b[0m, in \u001b[0;36mCDLL.__getitem__\u001b[1;34m(self, name_or_ordinal)\u001b[0m\n\u001b[0;32m    391\u001b[0m \u001b[39mdef\u001b[39;00m \u001b[39m__getitem__\u001b[39m(\u001b[39mself\u001b[39m, name_or_ordinal):\n\u001b[1;32m--> 392\u001b[0m     func \u001b[39m=\u001b[39m \u001b[39mself\u001b[39;49m\u001b[39m.\u001b[39;49m_FuncPtr((name_or_ordinal, \u001b[39mself\u001b[39;49m))\n\u001b[0;32m    393\u001b[0m     \u001b[39mif\u001b[39;00m \u001b[39mnot\u001b[39;00m \u001b[39misinstance\u001b[39m(name_or_ordinal, \u001b[39mint\u001b[39m):\n\u001b[0;32m    394\u001b[0m         func\u001b[39m.\u001b[39m\u001b[39m__name__\u001b[39m \u001b[39m=\u001b[39m name_or_ordinal\n",
      "\u001b[1;31mAttributeError\u001b[0m: function 'PGM_create_dataset_mutable' not found"
     ]
    }
   ],
   "source": [
    "from power_grid_model.utils import msgpack_deserialize, msgpack_serialize\n",
    "\n",
    "Msgpack_dataset = msgpack_deserialize(data)\n",
    "print(Msgpack_dataset)"
   ]
  },
  {
   "cell_type": "markdown",
   "metadata": {},
   "source": [
    "### Deserialize the JSON data"
   ]
  },
  {
   "cell_type": "code",
   "execution_count": 42,
   "metadata": {},
   "outputs": [
    {
     "name": "stdout",
     "output_type": "stream",
     "text": [
      "components: dict_keys(['line', 'node', 'source', 'sym_load'])\n"
     ]
    },
    {
     "data": {
      "text/html": [
       "<div>\n",
       "<style scoped>\n",
       "    .dataframe tbody tr th:only-of-type {\n",
       "        vertical-align: middle;\n",
       "    }\n",
       "\n",
       "    .dataframe tbody tr th {\n",
       "        vertical-align: top;\n",
       "    }\n",
       "\n",
       "    .dataframe thead th {\n",
       "        text-align: right;\n",
       "    }\n",
       "</style>\n",
       "<table border=\"1\" class=\"dataframe\">\n",
       "  <thead>\n",
       "    <tr style=\"text-align: right;\">\n",
       "      <th></th>\n",
       "      <th>id</th>\n",
       "      <th>u_rated</th>\n",
       "    </tr>\n",
       "  </thead>\n",
       "  <tbody>\n",
       "    <tr>\n",
       "      <th>0</th>\n",
       "      <td>1</td>\n",
       "      <td>10500.0</td>\n",
       "    </tr>\n",
       "    <tr>\n",
       "      <th>1</th>\n",
       "      <td>2</td>\n",
       "      <td>10500.0</td>\n",
       "    </tr>\n",
       "    <tr>\n",
       "      <th>2</th>\n",
       "      <td>3</td>\n",
       "      <td>10500.0</td>\n",
       "    </tr>\n",
       "  </tbody>\n",
       "</table>\n",
       "</div>"
      ],
      "text/plain": [
       "   id  u_rated\n",
       "0   1  10500.0\n",
       "1   2  10500.0\n",
       "2   3  10500.0"
      ]
     },
     "metadata": {},
     "output_type": "display_data"
    }
   ],
   "source": [
    "dataset = json_deserialize(data)\n",
    "\n",
    "print(\"components:\", dataset.keys())\n",
    "display(DataFrame(dataset[\"node\"]))"
   ]
  },
  {
   "cell_type": "markdown",
   "metadata": {},
   "source": [
    "## Run power flow calculation on the loaded input data"
   ]
  },
  {
   "cell_type": "code",
   "execution_count": 35,
   "metadata": {},
   "outputs": [
    {
     "data": {
      "text/html": [
       "<div>\n",
       "<style scoped>\n",
       "    .dataframe tbody tr th:only-of-type {\n",
       "        vertical-align: middle;\n",
       "    }\n",
       "\n",
       "    .dataframe tbody tr th {\n",
       "        vertical-align: top;\n",
       "    }\n",
       "\n",
       "    .dataframe thead th {\n",
       "        text-align: right;\n",
       "    }\n",
       "</style>\n",
       "<table border=\"1\" class=\"dataframe\">\n",
       "  <thead>\n",
       "    <tr style=\"text-align: right;\">\n",
       "      <th></th>\n",
       "      <th>id</th>\n",
       "      <th>energized</th>\n",
       "      <th>u_pu</th>\n",
       "      <th>u</th>\n",
       "      <th>u_angle</th>\n",
       "      <th>p</th>\n",
       "      <th>q</th>\n",
       "    </tr>\n",
       "  </thead>\n",
       "  <tbody>\n",
       "    <tr>\n",
       "      <th>0</th>\n",
       "      <td>1</td>\n",
       "      <td>1</td>\n",
       "      <td>1.030000</td>\n",
       "      <td>10815.000000</td>\n",
       "      <td>-2.527860e-14</td>\n",
       "      <td>2.408998e+06</td>\n",
       "      <td>-2.863495e+06</td>\n",
       "    </tr>\n",
       "    <tr>\n",
       "      <th>1</th>\n",
       "      <td>2</td>\n",
       "      <td>1</td>\n",
       "      <td>1.029997</td>\n",
       "      <td>10814.968183</td>\n",
       "      <td>-4.398000e-03</td>\n",
       "      <td>-1.010000e+06</td>\n",
       "      <td>-2.100000e+05</td>\n",
       "    </tr>\n",
       "    <tr>\n",
       "      <th>2</th>\n",
       "      <td>3</td>\n",
       "      <td>1</td>\n",
       "      <td>1.029484</td>\n",
       "      <td>10809.581008</td>\n",
       "      <td>-6.839956e-03</td>\n",
       "      <td>-1.020000e+06</td>\n",
       "      <td>-2.200000e+05</td>\n",
       "    </tr>\n",
       "  </tbody>\n",
       "</table>\n",
       "</div>"
      ],
      "text/plain": [
       "   id  energized      u_pu             u       u_angle             p  \\\n",
       "0   1          1  1.030000  10815.000000 -2.527860e-14  2.408998e+06   \n",
       "1   2          1  1.029997  10814.968183 -4.398000e-03 -1.010000e+06   \n",
       "2   3          1  1.029484  10809.581008 -6.839956e-03 -1.020000e+06   \n",
       "\n",
       "              q  \n",
       "0 -2.863495e+06  \n",
       "1 -2.100000e+05  \n",
       "2 -2.200000e+05  "
      ]
     },
     "metadata": {},
     "output_type": "display_data"
    }
   ],
   "source": [
    "model = PowerGridModel(dataset)\n",
    "output = model.calculate_power_flow()\n",
    "\n",
    "display(DataFrame(output[\"node\"]))"
   ]
  },
  {
   "cell_type": "markdown",
   "metadata": {},
   "source": [
    "## Serialize the output dataset\n",
    "\n",
    "### Default format\n",
    "\n",
    "By default, the data is formatted nicely"
   ]
  },
  {
   "cell_type": "code",
   "execution_count": 36,
   "metadata": {},
   "outputs": [
    {
     "name": "stdout",
     "output_type": "stream",
     "text": [
      "{\n",
      "  \"attributes\": {},\n",
      "  \"data\": {\n",
      "    \"line\": [\n",
      "      {\n",
      "        \"energized\": 1,\n",
      "        \"i_from\": 199.76595459684984,\n",
      "        \"i_to\": 141.69843328389055,\n",
      "        \"id\": 4,\n",
      "        \"loading\": 0.3995319091936997,\n",
      "        \"p_from\": 2408997.8394389837,\n",
      "        \"p_to\": -2252625.764367662,\n",
      "        \"q_from\": -2863495.3646739325,\n",
      "        \"q_to\": 1403928.5369474716,\n",
      "        \"s_from\": 3742041.7279782956,\n",
      "        \"s_to\": 2654305.591138379\n",
      "      },\n",
      "      {\n",
      "        \"energized\": 1,\n",
      "        \"i_from\": 108.73760885970873,\n",
      "        \"i_to\": 55.731992269807684,\n",
      "        \"id\": 5,\n",
      "        \"loading\": 0.1977047433812886,\n",
      "        \"p_from\": 1242625.7643675157,\n",
      "        \"p_to\": -1019999.9999999403,\n",
      "        \"q_from\": -1613928.5369477118,\n",
      "        \"q_to\": -220000.00000002797,\n",
      "        \"s_from\": 2036880.9765531549,\n",
      "        \"s_to\": 1043455.7968595941\n",
      "      }\n",
      "    ],\n",
      "    \"node\": [\n",
      "      {\n",
      "        \"energized\": 1,\n",
      "        \"id\": 1,\n",
      "        \"p\": 2408997.8394389837,\n",
      "        \"q\": -2863495.3646739325,\n",
      "        \"u\": 10815.000000010767,\n",
      "        \"u_angle\": -2.5278595360047667e-14,\n",
      "        \"u_pu\": 1.0300000000010254\n",
      "      },\n",
      "      {\n",
      "        \"energized\": 1,\n",
      "        \"id\": 2,\n",
      "        \"p\": -1010000.0000001461,\n",
      "        \"q\": -210000.0000001819,\n",
      "        \"u\": 10814.968183063853,\n",
      "        \"u_angle\": -0.004397999804754551,\n",
      "        \"u_pu\": 1.029996969815605\n",
      "      },\n",
      "      {\n",
      "        \"energized\": 1,\n",
      "        \"id\": 3,\n",
      "        \"p\": -1019999.9999999403,\n",
      "        \"q\": -220000.00000002797,\n",
      "        \"u\": 10809.581008478113,\n",
      "        \"u_angle\": -0.006839956175380042,\n",
      "        \"u_pu\": 1.029483905569344\n",
      "      }\n",
      "    ],\n",
      "    \"source\": [\n",
      "      {\n",
      "        \"energized\": 1,\n",
      "        \"i\": 5640.066029671385,\n",
      "        \"id\": 15,\n",
      "        \"p\": -7840728.150705829,\n",
      "        \"pf\": -0.07421386620758674,\n",
      "        \"q\": -105359100.07360017,\n",
      "        \"s\": 105650447.16541511\n",
      "      },\n",
      "      {\n",
      "        \"energized\": 1,\n",
      "        \"i\": 5498.573991718331,\n",
      "        \"id\": 16,\n",
      "        \"p\": 10248883.05839162,\n",
      "        \"pf\": 0.09950371902361486,\n",
      "        \"q\": 102488830.58119483,\n",
      "        \"s\": 102999999.98954098\n",
      "      },\n",
      "      {\n",
      "        \"energized\": 1,\n",
      "        \"i\": 5.640066029671386e-07,\n",
      "        \"id\": 17,\n",
      "        \"p\": -0.0018083353742138523,\n",
      "        \"pf\": -0.1711621126773437,\n",
      "        \"q\": -0.010409135076311025,\n",
      "        \"s\": 0.01056504471654151\n",
      "      }\n",
      "    ],\n",
      "    \"sym_load\": [\n",
      "      {\n",
      "        \"energized\": 1,\n",
      "        \"i\": 55.07135393955917,\n",
      "        \"id\": 7,\n",
      "        \"p\": 1010000,\n",
      "        \"pf\": 0.979060989404389,\n",
      "        \"q\": 210000,\n",
      "        \"s\": 1031600.6979447039\n",
      "      },\n",
      "      {\n",
      "        \"energized\": 1,\n",
      "        \"i\": 55.7319922698105,\n",
      "        \"id\": 8,\n",
      "        \"p\": 1020000,\n",
      "        \"pf\": 0.9775210440823288,\n",
      "        \"q\": 220000,\n",
      "        \"s\": 1043455.7968596466\n",
      "      }\n",
      "    ]\n",
      "  },\n",
      "  \"is_batch\": false,\n",
      "  \"type\": \"sym_output\",\n",
      "  \"version\": \"1.0\"\n",
      "}\n"
     ]
    }
   ],
   "source": [
    "serialized_output = json_serialize(output)\n",
    "\n",
    "print(serialized_output)"
   ]
  },
  {
   "cell_type": "markdown",
   "metadata": {},
   "source": [
    "### Compact serialization\n",
    "\n",
    "In the full result, all attributes are explicitly listed for each component.\n",
    "In addition, all attributes are listed on a separate whiteline.\n",
    "This is fairly expensive memory-wise.\n",
    "\n",
    "If you need a more memory-efficient output, you can tell the serializer to use compact lists and to avoid using redundant newlines and whitespaces."
   ]
  },
  {
   "cell_type": "code",
   "execution_count": 37,
   "metadata": {},
   "outputs": [
    {
     "name": "stdout",
     "output_type": "stream",
     "text": [
      "{\"attributes\":{\"line\":[\"id\",\"energized\",\"loading\",\"p_from\",\"q_from\",\"i_from\",\"s_from\",\"p_to\",\"q_to\",\"i_to\",\"s_to\"],\"node\":[\"id\",\"energized\",\"u_pu\",\"u\",\"u_angle\",\"p\",\"q\"],\"source\":[\"id\",\"energized\",\"p\",\"q\",\"i\",\"s\",\"pf\"],\"sym_load\":[\"id\",\"energized\",\"p\",\"q\",\"i\",\"s\",\"pf\"]},\"data\":{\"line\":[[4,1,0.3995319091936997,2408997.8394389837,-2863495.3646739325,199.76595459684984,3742041.7279782956,-2252625.764367662,1403928.5369474716,141.69843328389055,2654305.591138379],[5,1,0.1977047433812886,1242625.7643675157,-1613928.5369477118,108.73760885970873,2036880.9765531549,-1019999.9999999403,-220000.00000002797,55.731992269807684,1043455.7968595941]],\"node\":[[1,1,1.0300000000010254,10815.000000010767,-2.5278595360047667e-14,2408997.8394389837,-2863495.3646739325],[2,1,1.029996969815605,10814.968183063853,-0.004397999804754551,-1010000.0000001461,-210000.0000001819],[3,1,1.029483905569344,10809.581008478113,-0.006839956175380042,-1019999.9999999403,-220000.00000002797]],\"source\":[[15,1,-7840728.150705829,-105359100.07360017,5640.066029671385,105650447.16541511,-0.07421386620758674],[16,1,10248883.05839162,102488830.58119483,5498.573991718331,102999999.98954098,0.09950371902361486],[17,1,-0.0018083353742138523,-0.010409135076311025,5.640066029671386e-07,0.01056504471654151,-0.1711621126773437]],\"sym_load\":[[7,1,1010000,210000,55.07135393955917,1031600.6979447039,0.979060989404389],[8,1,1020000,220000,55.7319922698105,1043455.7968596466,0.9775210440823288]]},\"is_batch\":false,\"type\":\"sym_output\",\"version\":\"1.0\"}\n"
     ]
    }
   ],
   "source": [
    "serialized_output = json_serialize(output, use_compact_list=True, indent=-1)\n",
    "\n",
    "print(serialized_output)"
   ]
  },
  {
   "cell_type": "markdown",
   "metadata": {},
   "source": [
    "The compact result is still valid JSON"
   ]
  },
  {
   "cell_type": "code",
   "execution_count": 38,
   "metadata": {},
   "outputs": [
    {
     "name": "stdout",
     "output_type": "stream",
     "text": [
      "{'attributes': {'line': ['id',\n",
      "                         'energized',\n",
      "                         'loading',\n",
      "                         'p_from',\n",
      "                         'q_from',\n",
      "                         'i_from',\n",
      "                         's_from',\n",
      "                         'p_to',\n",
      "                         'q_to',\n",
      "                         'i_to',\n",
      "                         's_to'],\n",
      "                'node': ['id', 'energized', 'u_pu', 'u', 'u_angle', 'p', 'q'],\n",
      "                'source': ['id', 'energized', 'p', 'q', 'i', 's', 'pf'],\n",
      "                'sym_load': ['id', 'energized', 'p', 'q', 'i', 's', 'pf']},\n",
      " 'data': {'line': [[4,\n",
      "                    1,\n",
      "                    0.3995319091936997,\n",
      "                    2408997.8394389837,\n",
      "                    -2863495.3646739325,\n",
      "                    199.76595459684984,\n",
      "                    3742041.7279782956,\n",
      "                    -2252625.764367662,\n",
      "                    1403928.5369474716,\n",
      "                    141.69843328389055,\n",
      "                    2654305.591138379],\n",
      "                   [5,\n",
      "                    1,\n",
      "                    0.1977047433812886,\n",
      "                    1242625.7643675157,\n",
      "                    -1613928.5369477118,\n",
      "                    108.73760885970873,\n",
      "                    2036880.9765531549,\n",
      "                    -1019999.9999999403,\n",
      "                    -220000.00000002797,\n",
      "                    55.731992269807684,\n",
      "                    1043455.7968595941]],\n",
      "          'node': [[1,\n",
      "                    1,\n",
      "                    1.0300000000010254,\n",
      "                    10815.000000010767,\n",
      "                    -2.5278595360047667e-14,\n",
      "                    2408997.8394389837,\n",
      "                    -2863495.3646739325],\n",
      "                   [2,\n",
      "                    1,\n",
      "                    1.029996969815605,\n",
      "                    10814.968183063853,\n",
      "                    -0.004397999804754551,\n",
      "                    -1010000.0000001461,\n",
      "                    -210000.0000001819],\n",
      "                   [3,\n",
      "                    1,\n",
      "                    1.029483905569344,\n",
      "                    10809.581008478113,\n",
      "                    -0.006839956175380042,\n",
      "                    -1019999.9999999403,\n",
      "                    -220000.00000002797]],\n",
      "          'source': [[15,\n",
      "                      1,\n",
      "                      -7840728.150705829,\n",
      "                      -105359100.07360017,\n",
      "                      5640.066029671385,\n",
      "                      105650447.16541511,\n",
      "                      -0.07421386620758674],\n",
      "                     [16,\n",
      "                      1,\n",
      "                      10248883.05839162,\n",
      "                      102488830.58119483,\n",
      "                      5498.573991718331,\n",
      "                      102999999.98954098,\n",
      "                      0.09950371902361486],\n",
      "                     [17,\n",
      "                      1,\n",
      "                      -0.0018083353742138523,\n",
      "                      -0.010409135076311025,\n",
      "                      5.640066029671386e-07,\n",
      "                      0.01056504471654151,\n",
      "                      -0.1711621126773437]],\n",
      "          'sym_load': [[7,\n",
      "                        1,\n",
      "                        1010000,\n",
      "                        210000,\n",
      "                        55.07135393955917,\n",
      "                        1031600.6979447039,\n",
      "                        0.979060989404389],\n",
      "                       [8,\n",
      "                        1,\n",
      "                        1020000,\n",
      "                        220000,\n",
      "                        55.7319922698105,\n",
      "                        1043455.7968596466,\n",
      "                        0.9775210440823288]]},\n",
      " 'is_batch': False,\n",
      " 'type': 'sym_output',\n",
      " 'version': '1.0'}\n"
     ]
    }
   ],
   "source": [
    "pprint.pprint(json.loads(serialized_output))"
   ]
  }
 ],
 "metadata": {
  "kernelspec": {
   "display_name": "venv",
   "language": "python",
   "name": "python3"
  },
  "language_info": {
   "codemirror_mode": {
    "name": "ipython",
    "version": 3
   },
   "file_extension": ".py",
   "mimetype": "text/x-python",
   "name": "python",
   "nbconvert_exporter": "python",
   "pygments_lexer": "ipython3",
   "version": "3.9.13"
  },
  "orig_nbformat": 4
 },
 "nbformat": 4,
 "nbformat_minor": 2
}
